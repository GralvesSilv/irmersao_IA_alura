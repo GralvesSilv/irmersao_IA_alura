{
  "nbformat": 4,
  "nbformat_minor": 0,
  "metadata": {
    "colab": {
      "provenance": [],
      "authorship_tag": "ABX9TyPKkWEYmODuCn2xhD6e5osY",
      "include_colab_link": true
    },
    "kernelspec": {
      "name": "python3",
      "display_name": "Python 3"
    },
    "language_info": {
      "name": "python"
    }
  },
  "cells": [
    {
      "cell_type": "markdown",
      "metadata": {
        "id": "view-in-github",
        "colab_type": "text"
      },
      "source": [
        "<a href=\"https://colab.research.google.com/github/GralvesSilv/irmersao_IA_alura/blob/main/projeto1.ipynb\" target=\"_parent\"><img src=\"https://colab.research.google.com/assets/colab-badge.svg\" alt=\"Open In Colab\"/></a>"
      ]
    },
    {
      "cell_type": "markdown",
      "source": [
        "Instalando sdk"
      ],
      "metadata": {
        "id": "tP3cZhIhKQtp"
      }
    },
    {
      "cell_type": "code",
      "execution_count": null,
      "metadata": {
        "id": "sKFzIcGBG2Zs"
      },
      "outputs": [],
      "source": [
        "!pip install -q -U google-generativeai"
      ]
    },
    {
      "cell_type": "code",
      "source": [
        "# Import the Python SDK\n",
        "import google.generativeai as genai\n",
        "from google.colab import userdata\n",
        "API_KEY = userdata.get('SECRET_KEY')\n",
        "\n",
        "GOOGLE_API_KEY=\"\"\n",
        "genai.configure(api_key=GOOGLE_API_KEY)"
      ],
      "metadata": {
        "id": "beJbWv2AKhb4"
      },
      "execution_count": null,
      "outputs": []
    },
    {
      "cell_type": "markdown",
      "source": [
        "lista de modelos disponíveis"
      ],
      "metadata": {
        "id": "Li9_sl9jLdp_"
      }
    },
    {
      "cell_type": "code",
      "source": [
        "for m in genai.list_models():\n",
        "  if 'generateContent' in m.supported_generation_methods:\n",
        "    print(m.name)"
      ],
      "metadata": {
        "colab": {
          "base_uri": "https://localhost:8080/",
          "height": 139
        },
        "id": "b1W5HyirKuHN",
        "outputId": "2d78323b-ca2a-45bd-af19-2ef590224d87"
      },
      "execution_count": null,
      "outputs": [
        {
          "output_type": "stream",
          "name": "stdout",
          "text": [
            "models/gemini-1.0-pro\n",
            "models/gemini-1.0-pro-001\n",
            "models/gemini-1.0-pro-latest\n",
            "models/gemini-1.0-pro-vision-latest\n",
            "models/gemini-1.5-pro-latest\n",
            "models/gemini-pro\n",
            "models/gemini-pro-vision\n"
          ]
        }
      ]
    },
    {
      "cell_type": "markdown",
      "source": [
        "Configurando o modelo"
      ],
      "metadata": {
        "id": "a84oV26kQAj3"
      }
    },
    {
      "cell_type": "code",
      "source": [
        "generation_config = {\n",
        "    \"candidate_count\": 1,\n",
        "    \"temperature\": 0.5,\n",
        "}"
      ],
      "metadata": {
        "id": "i09g7VQWN05n"
      },
      "execution_count": null,
      "outputs": []
    },
    {
      "cell_type": "code",
      "source": [
        "safety_settings = {\n",
        "    \"HARASSMENT\": \"BLOCK_NONE\",\n",
        "    \"HATE\": \"BLOCK_NONE\",\n",
        "    \"SEXUAL\": \"BLOCK_NONE\",\n",
        "    \"DANGEROUS\": \"BLOCK_NONE\",\n",
        "}"
      ],
      "metadata": {
        "id": "LVwvHVSHOhCR"
      },
      "execution_count": null,
      "outputs": []
    },
    {
      "cell_type": "markdown",
      "source": [
        "iniciando o modelo"
      ],
      "metadata": {
        "id": "cSTy-cc5QFHO"
      }
    },
    {
      "cell_type": "code",
      "source": [
        "model = genai.GenerativeModel(model_name=\"gemini-1.0-pro\", generation_config=generation_config, safety_settings=safety_settings)"
      ],
      "metadata": {
        "id": "EtC3633NQKed"
      },
      "execution_count": null,
      "outputs": []
    },
    {
      "cell_type": "code",
      "source": [
        "response = model.generate_content(\"Me de ideias de como usar a I.A\")\n",
        "print(response.text)"
      ],
      "metadata": {
        "colab": {
          "base_uri": "https://localhost:8080/",
          "height": 1000
        },
        "id": "E9IE6YF9RRVV",
        "outputId": "f868df66-cba3-4eda-eb28-a0ed9801e119"
      },
      "execution_count": null,
      "outputs": [
        {
          "output_type": "stream",
          "name": "stdout",
          "text": [
            "**Geração de Conteúdo**\n",
            "\n",
            "* Escrever artigos, postagens de blog, histórias, roteiros e conteúdo de mídia social\n",
            "* Gerar ideias para títulos, tópicos e palavras-chave\n",
            "* Criar descrições de produtos, legendas de imagens e anúncios\n",
            "\n",
            "**Assistência à Escrita**\n",
            "\n",
            "* Verificar gramática, ortografia e estilo\n",
            "* Sugerir sinônimos e antônimos\n",
            "* Resumir e parafrasear textos\n",
            "* Traduzir idiomas\n",
            "\n",
            "**Pesquisa e Análise**\n",
            "\n",
            "* Analisar dados, identificar tendências e prever resultados\n",
            "* Realizar pesquisas de mercado, pesquisas de opinião e análises de sentimento\n",
            "* Resumir e sintetizar informações de várias fontes\n",
            "* Extrair insights de dados não estruturados\n",
            "\n",
            "**Automação de Tarefas**\n",
            "\n",
            "* Agendar compromissos, enviar e-mails e responder a mensagens\n",
            "* Gerenciar planilhas, criar apresentações e editar vídeos\n",
            "* Automatizar tarefas repetitivas e demoradas\n",
            "* Classificar e organizar arquivos\n",
            "\n",
            "**Atendimento ao Cliente**\n",
            "\n",
            "* Fornecer suporte ao cliente 24 horas por dia, 7 dias por semana, por meio de chatbots e assistentes virtuais\n",
            "* Responder a perguntas frequentes e resolver problemas comuns\n",
            "* Personalizar experiências do cliente com base em dados históricos\n",
            "\n",
            "**Desenvolvimento de Produtos**\n",
            "\n",
            "* Gerar ideias para novos produtos e recursos\n",
            "* Testar e validar conceitos de produtos\n",
            "* Analisar dados de uso e melhorar a experiência do usuário\n",
            "\n",
            "**Saúde e Bem-Estar**\n",
            "\n",
            "* Fornecer informações sobre saúde e bem-estar\n",
            "* Acompanhar o progresso da saúde e fornecer feedback\n",
            "* Fornecer suporte emocional e orientação\n",
            "* Analisar dados de saúde para identificar riscos e tendências\n",
            "\n",
            "**Educação e Aprendizado**\n",
            "\n",
            "* Criar conteúdo educacional personalizado\n",
            "* Fornecer feedback e avaliação em tempo real\n",
            "* Adaptar o aprendizado ao ritmo e estilo de cada aluno\n",
            "* Traduzir materiais educacionais para diferentes idiomas\n",
            "\n",
            "**Entretenimento**\n",
            "\n",
            "* Gerar ideias para filmes, programas de TV e jogos\n",
            "* Criar personagens e enredos envolventes\n",
            "* Personalizar experiências de entretenimento com base nas preferências do usuário\n",
            "* Gerar música, arte e conteúdo de vídeo\n"
          ]
        }
      ]
    },
    {
      "cell_type": "code",
      "source": [
        "chat = model.start_chat(history=[])"
      ],
      "metadata": {
        "id": "NHkw9ZCeRorj"
      },
      "execution_count": null,
      "outputs": []
    },
    {
      "cell_type": "code",
      "source": [
        "prompt = input(\"esperando prompt: \")\n",
        "\n",
        "while prompt != \"fim\":\n",
        "  response = chat.send_message(prompt)\n",
        "  print(\"resposta: \", response.text, \"\\n\")\n",
        "  prompt = input(\"esperando prompt: \")"
      ],
      "metadata": {
        "colab": {
          "base_uri": "https://localhost:8080/",
          "height": 659
        },
        "id": "W3icqHPfSIQP",
        "outputId": "5591cd59-8cee-4af5-82ae-ac97dbef2f4f"
      },
      "execution_count": null,
      "outputs": [
        {
          "name": "stdout",
          "output_type": "stream",
          "text": [
            "esperando prompt: qual a capital da frança?\n",
            "resposta:  Paris \n",
            "\n",
            "esperando prompt: qual a comida tipica desse pais\n",
            "resposta:  **Pratos Principais:**\n",
            "\n",
            "* Coq au vin (frango cozido em vinho tinto)\n",
            "* Boeuf bourguignon (ensopado de carne bovina em vinho tinto)\n",
            "* Escargot (caracóis cozidos em manteiga e alho)\n",
            "* Cassoulet (ensopado de feijão branco com carne)\n",
            "* Crêpes (panquecas finas)\n",
            "\n",
            "**Queijos:**\n",
            "\n",
            "* Brie\n",
            "* Camembert\n",
            "* Roquefort\n",
            "* Comté\n",
            "* Gruyère\n",
            "\n",
            "**Doces:**\n",
            "\n",
            "* Croissants\n",
            "* Pain au chocolat\n",
            "* Macarons\n",
            "* Crème brûlée\n",
            "* Tarte Tatin (torta de maçã invertida)\n",
            "\n",
            "**Bebidas:**\n",
            "\n",
            "* Vinho\n",
            "* Cerveja\n",
            "* Cidra\n",
            "* Pastis (aperitivo de anis)\n",
            "* Café \n",
            "\n",
            "esperando prompt: fim\n"
          ]
        }
      ]
    },
    {
      "cell_type": "code",
      "source": [
        "#Melhorando a visualização\n",
        "#Código disponível em https://ai.google.dev/tutorials/python_quickstart#import_packages\n",
        "import textwrap\n",
        "from IPython.display import display\n",
        "from IPython.display import Markdown\n",
        "\n",
        "def to_markdown(text):\n",
        "  text = text.replace('•', '  *')\n",
        "  return Markdown(textwrap.indent(text, '> ', predicate=lambda _: True))\n",
        "\n",
        "#Imprimindo o histórico\n",
        "for message in chat.history:\n",
        "  display(to_markdown(f'**{message.role}**: {message.parts[0].text}'))\n",
        "  print('-------------------------------------------')"
      ],
      "metadata": {
        "colab": {
          "base_uri": "https://localhost:8080/",
          "height": 709
        },
        "id": "aKBNzMWtU3rc",
        "outputId": "cf6a16b2-cd26-4022-f0a9-c8faddb5e7ee"
      },
      "execution_count": null,
      "outputs": [
        {
          "output_type": "display_data",
          "data": {
            "text/plain": [
              "<IPython.core.display.Markdown object>"
            ],
            "text/markdown": "> **user**: qual a capital da frança?"
          },
          "metadata": {}
        },
        {
          "output_type": "stream",
          "name": "stdout",
          "text": [
            "-------------------------------------------\n"
          ]
        },
        {
          "output_type": "display_data",
          "data": {
            "text/plain": [
              "<IPython.core.display.Markdown object>"
            ],
            "text/markdown": "> **model**: Paris"
          },
          "metadata": {}
        },
        {
          "output_type": "stream",
          "name": "stdout",
          "text": [
            "-------------------------------------------\n"
          ]
        },
        {
          "output_type": "display_data",
          "data": {
            "text/plain": [
              "<IPython.core.display.Markdown object>"
            ],
            "text/markdown": "> **user**: qual a comida tipica desse pais"
          },
          "metadata": {}
        },
        {
          "output_type": "stream",
          "name": "stdout",
          "text": [
            "-------------------------------------------\n"
          ]
        },
        {
          "output_type": "display_data",
          "data": {
            "text/plain": [
              "<IPython.core.display.Markdown object>"
            ],
            "text/markdown": "> **model**: **Pratos Principais:**\n> \n> * Coq au vin (frango cozido em vinho tinto)\n> * Boeuf bourguignon (ensopado de carne bovina em vinho tinto)\n> * Escargot (caracóis cozidos em manteiga e alho)\n> * Cassoulet (ensopado de feijão branco com carne)\n> * Crêpes (panquecas finas)\n> \n> **Queijos:**\n> \n> * Brie\n> * Camembert\n> * Roquefort\n> * Comté\n> * Gruyère\n> \n> **Doces:**\n> \n> * Croissants\n> * Pain au chocolat\n> * Macarons\n> * Crème brûlée\n> * Tarte Tatin (torta de maçã invertida)\n> \n> **Bebidas:**\n> \n> * Vinho\n> * Cerveja\n> * Cidra\n> * Pastis (aperitivo de anis)\n> * Café"
          },
          "metadata": {}
        },
        {
          "output_type": "stream",
          "name": "stdout",
          "text": [
            "-------------------------------------------\n"
          ]
        }
      ]
    }
  ]
}